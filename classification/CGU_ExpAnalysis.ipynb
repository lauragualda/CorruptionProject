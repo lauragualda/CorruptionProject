{
 "cells": [
  {
   "cell_type": "code",
   "execution_count": 1,
   "metadata": {
    "collapsed": true
   },
   "outputs": [],
   "source": [
    "import numpy as np\n",
    "import pandas as pd\n",
    "#import matplotlib.pyplot as plt\n",
    "import seaborn as sns\n",
    "import nltk\n",
    "\n",
    "%matplotlib inline\n",
    "%run \"functions.ipynb\""
   ]
  },
  {
   "cell_type": "markdown",
   "metadata": {},
   "source": [
    "# Loading raw data"
   ]
  },
  {
   "cell_type": "code",
   "execution_count": 2,
   "metadata": {},
   "outputs": [
    {
     "data": {
      "text/plain": [
       "81715"
      ]
     },
     "execution_count": 2,
     "metadata": {},
     "output_type": "execute_result"
    }
   ],
   "source": [
    "dataPath = '../data/cgu/'\n",
    "dataName = 'CGU_data_class_touse.xlsx'\n",
    "data = pd.read_excel(dataPath+dataName, encoding='utf-8')\n",
    "\n",
    "# deleting irregularities with no description\n",
    "#data = data[data['descricao_sumaria'].notnull()] \n",
    "len(data)"
   ]
  },
  {
   "cell_type": "code",
   "execution_count": 3,
   "metadata": {},
   "outputs": [
    {
     "name": "stdout",
     "output_type": "stream",
     "text": [
      "<class 'pandas.core.frame.DataFrame'>\n",
      "RangeIndex: 81715 entries, 0 to 81714\n",
      "Data columns (total 22 columns):\n",
      "Id_Irreg             81715 non-null object\n",
      "Id_Mun_Sort          81715 non-null object\n",
      "Municipio            81715 non-null object\n",
      "UF                   81715 non-null object\n",
      "Ed_Sorteio           81715 non-null int64\n",
      "Ano_Sorteio          81715 non-null int64\n",
      "Ano_Auditoria        81715 non-null int64\n",
      "Nr_OS                81715 non-null int64\n",
      "Montante_fisc        76264 non-null float64\n",
      "Orgao_Sup            81715 non-null object\n",
      "Orgao_Sup_cod        81715 non-null object\n",
      "Programa             81590 non-null object\n",
      "Acao                 79249 non-null object\n",
      "Tipo_constatacao     81715 non-null object\n",
      "descricao_sumaria    81669 non-null object\n",
      "Ind_class            81715 non-null int64\n",
      "Class                4200 non-null object\n",
      "Class_n              4166 non-null float64\n",
      "Class_10             4166 non-null float64\n",
      "Class_2              4166 non-null float64\n",
      "Cod_9                4166 non-null object\n",
      "Cod_2                4166 non-null object\n",
      "dtypes: float64(4), int64(5), object(13)\n",
      "memory usage: 13.7+ MB\n"
     ]
    }
   ],
   "source": [
    "data.info()"
   ]
  },
  {
   "cell_type": "code",
   "execution_count": 4,
   "metadata": {},
   "outputs": [
    {
     "name": "stdout",
     "output_type": "stream",
     "text": [
      "<class 'pandas.core.frame.DataFrame'>\n",
      "RangeIndex: 29822 entries, 0 to 29821\n",
      "Data columns (total 15 columns):\n",
      "Id_Mun_Sort         29821 non-null object\n",
      "Municipio           29821 non-null object\n",
      "UF                  29821 non-null object\n",
      "Ed_Sorteio          29821 non-null float64\n",
      "Ano_Sorteio         29821 non-null float64\n",
      "Nr_OS               29821 non-null float64\n",
      "Montante_fisc       27505 non-null float64\n",
      "IdOrgao             29821 non-null float64\n",
      "Orgao_Sup           29821 non-null object\n",
      "Funcao              28216 non-null object\n",
      "Funcao_padrao       28216 non-null object\n",
      "Subfuncao           28216 non-null object\n",
      "Subfuncao_padrao    28216 non-null object\n",
      "Programa            29632 non-null object\n",
      "Acao                28216 non-null object\n",
      "dtypes: float64(5), object(10)\n",
      "memory usage: 3.4+ MB\n"
     ]
    }
   ],
   "source": [
    "dataPath = '../data/cgu/'\n",
    "dataName = 'CGU_data_OS.xlsx'\n",
    "data_OS = pd.read_excel(dataPath+dataName, encoding='utf-8')\n",
    "\n",
    "data_OS.info()"
   ]
  },
  {
   "cell_type": "markdown",
   "metadata": {},
   "source": [
    "# Random analyses"
   ]
  },
  {
   "cell_type": "markdown",
   "metadata": {},
   "source": [
    "## Number of OS by municipality"
   ]
  },
  {
   "cell_type": "code",
   "execution_count": 6,
   "metadata": {},
   "outputs": [
    {
     "data": {
      "text/plain": [
       "<matplotlib.axes._subplots.AxesSubplot at 0x1fdf56e8860>"
      ]
     },
     "execution_count": 6,
     "metadata": {},
     "output_type": "execute_result"
    },
    {
     "data": {
      "image/png": "[encoded data removed]",
      "text/plain": [
       "<matplotlib.figure.Figure at 0x1fdf27207b8>"
      ]
     },
     "metadata": {},
     "output_type": "display_data"
    }
   ],
   "source": [
    "group_os = data_OS[['Id_Mun_Sort', 'Nr_OS']].groupby('Id_Mun_Sort').count().reset_index()\n",
    "group_os = group_os.rename(columns={'Nr_OS': 'Number of dispatched OS by Municipality'})\n",
    "sns.distplot(group_os['Number of dispatched OS by Municipality'], kde=True, color='#83B0A8')"
   ]
  },
  {
   "cell_type": "code",
   "execution_count": 8,
   "metadata": {},
   "outputs": [
    {
     "data": {
      "text/plain": [
       "24.383483237939494"
      ]
     },
     "execution_count": 8,
     "metadata": {},
     "output_type": "execute_result"
    }
   ],
   "source": [
    "np.mean(group_os['Number of dispatched OS by Municipality'])"
   ]
  },
  {
   "cell_type": "code",
   "execution_count": 9,
   "metadata": {},
   "outputs": [
    {
     "data": {
      "text/plain": [
       "1223"
      ]
     },
     "execution_count": 9,
     "metadata": {},
     "output_type": "execute_result"
    }
   ],
   "source": [
    "len(group_os)"
   ]
  },
  {
   "cell_type": "code",
   "execution_count": 11,
   "metadata": {},
   "outputs": [
    {
     "data": {
      "text/plain": [
       "<matplotlib.axes._subplots.AxesSubplot at 0x1fdf48b0780>"
      ]
     },
     "execution_count": 11,
     "metadata": {},
     "output_type": "execute_result"
    },
    {
     "data": {
      "image/png": "[encoded data removed]",
      "text/plain": [
       "<matplotlib.figure.Figure at 0x1fdf6ae1198>"
      ]
     },
     "metadata": {},
     "output_type": "display_data"
    }
   ],
   "source": [
    "group_os_irreg = data[['Id_Irreg', 'Nr_OS']].groupby('Nr_OS').count().reset_index()\n",
    "group_os_irreg = group_os_irreg.rename(columns={'Id_Irreg': 'Number of irregularities by OS'})\n",
    "sns.distplot(group_os_irreg['Number of irregularities by OS'], kde=True, color='#83B0A8')"
   ]
  },
  {
   "cell_type": "code",
   "execution_count": 12,
   "metadata": {},
   "outputs": [
    {
     "data": {
      "text/plain": [
       "3.6851718228555965"
      ]
     },
     "execution_count": 12,
     "metadata": {},
     "output_type": "execute_result"
    }
   ],
   "source": [
    "np.mean(group_os_irreg['Number of irregularities by OS'])"
   ]
  },
  {
   "cell_type": "code",
   "execution_count": 13,
   "metadata": {},
   "outputs": [
    {
     "data": {
      "text/plain": [
       "22174"
      ]
     },
     "execution_count": 13,
     "metadata": {},
     "output_type": "execute_result"
    }
   ],
   "source": [
    "len(group_os_irreg)"
   ]
  },
  {
   "cell_type": "code",
   "execution_count": 14,
   "metadata": {},
   "outputs": [
    {
     "data": {
      "text/plain": [
       "<matplotlib.axes._subplots.AxesSubplot at 0x1fdf44a33c8>"
      ]
     },
     "execution_count": 14,
     "metadata": {},
     "output_type": "execute_result"
    },
    {
     "data": {
      "image/png": "[encoded data removed]",
      "text/plain": [
       "<matplotlib.figure.Figure at 0x1fdf44b49b0>"
      ]
     },
     "metadata": {},
     "output_type": "display_data"
    }
   ],
   "source": [
    "group_grave_os = data[['Nr_OS', 'Id_Irreg', 'Tipo_constatacao']][data['Tipo_constatacao']=='Falha Grave'].groupby('Nr_OS').count().reset_index()\n",
    "group_media_os = data[['Nr_OS', 'Id_Irreg', 'Tipo_constatacao']][data['Tipo_constatacao']=='Falha Média'].groupby('Nr_OS').count().reset_index()\n",
    "group_formal_os = data[['Nr_OS', 'Id_Irreg', 'Tipo_constatacao']][data['Tipo_constatacao']=='Falha Formal'].groupby('Nr_OS').count().reset_index()\n",
    "group_grave_os = group_grave_os.rename(columns={'Id_Irreg': 'Number of Irregularities by OS'})\n",
    "group_media_os = group_media_os.rename(columns={'Id_Irreg': 'Number of Irregularities by OS'})\n",
    "group_formal_os = group_formal_os.rename(columns={'Id_Irreg': 'Number of Irregularities by OS'})\n",
    "sns.distplot(group_media_os['Number of Irregularities by OS'], kde=False, color='blue')\n",
    "sns.distplot(group_grave_os['Number of Irregularities by OS'], kde=False, color='yellow')\n",
    "sns.distplot(group_formal_os['Number of Irregularities by OS'], kde=False, color='red')"
   ]
  },
  {
   "cell_type": "markdown",
   "metadata": {},
   "source": [
    "## Number of irregularities by municipality"
   ]
  },
  {
   "cell_type": "code",
   "execution_count": 41,
   "metadata": {},
   "outputs": [
    {
     "data": {
      "text/plain": [
       "<matplotlib.axes._subplots.AxesSubplot at 0x1fdf2a1c908>"
      ]
     },
     "execution_count": 41,
     "metadata": {},
     "output_type": "execute_result"
    },
    {
     "data": {
      "image/png": "[encoded data removed]",
      "text/plain": [
       "<matplotlib.figure.Figure at 0x1fdf63fb198>"
      ]
     },
     "metadata": {},
     "output_type": "display_data"
    }
   ],
   "source": [
    "sns.distplot(group_irreg['Number of Irregularities by Municipality'], kde=True, color='#83B0A8')\n",
    "sns.distplot(group_educ['Number of irregularities in Education by Municipality'], kde=True, color='#83B0A8')"
   ]
  },
  {
   "cell_type": "code",
   "execution_count": 19,
   "metadata": {},
   "outputs": [
    {
     "data": {
      "text/plain": [
       "<matplotlib.axes._subplots.AxesSubplot at 0x1fdf347ee10>"
      ]
     },
     "execution_count": 19,
     "metadata": {},
     "output_type": "execute_result"
    },
    {
     "data": {
      "image/png": "[encoded data removed]",
      "text/plain": [
       "<matplotlib.figure.Figure at 0x1fdf491b588>"
      ]
     },
     "metadata": {},
     "output_type": "display_data"
    }
   ],
   "source": [
    "group_irreg = data[['Id_Mun_Sort', 'Id_Irreg', 'Tipo_constatacao']].groupby('Id_Mun_Sort').count().reset_index()\n",
    "group_irreg = group_irreg.rename(columns={'Id_Irreg': 'Number of Irregularities by Municipality'})\n",
    "sns.distplot(group_irreg['Number of Irregularities by Municipality'], kde=True, color='#83B0A8')\n",
    "sns.distplot(group_educ['Number of irregularities in Education by Municipality'], kde=True, color='#83B0A8')"
   ]
  },
  {
   "cell_type": "code",
   "execution_count": 40,
   "metadata": {},
   "outputs": [
    {
     "data": {
      "text/plain": [
       "Number of Irregularities by Municipality    66.815209\n",
       "Tipo_constatacao                            66.815209\n",
       "dtype: float64"
      ]
     },
     "execution_count": 40,
     "metadata": {},
     "output_type": "execute_result"
    }
   ],
   "source": [
    "group_irreg.mean()"
   ]
  },
  {
   "cell_type": "code",
   "execution_count": 113,
   "metadata": {},
   "outputs": [
    {
     "data": {
      "text/plain": [
       "<matplotlib.axes._subplots.AxesSubplot at 0x17c387a12e8>"
      ]
     },
     "execution_count": 113,
     "metadata": {},
     "output_type": "execute_result"
    },
    {
     "data": {
      "image/png": "[encoded data removed]",
      "text/plain": [
       "<matplotlib.figure.Figure at 0x17c3d096a90>"
      ]
     },
     "metadata": {},
     "output_type": "display_data"
    }
   ],
   "source": [
    "group_grave = data[['Id_Mun_Sort', 'Id_Irreg', 'Tipo_constatacao']][data['Tipo_constatacao']=='Falha Grave'].groupby('Id_Mun_Sort').count().reset_index()\n",
    "group_media = data[['Id_Mun_Sort', 'Id_Irreg', 'Tipo_constatacao']][data['Tipo_constatacao']=='Falha Média'].groupby('Id_Mun_Sort').count().reset_index()\n",
    "group_formal = data[['Id_Mun_Sort', 'Id_Irreg', 'Tipo_constatacao']][data['Tipo_constatacao']=='Falha Formal'].groupby('Id_Mun_Sort').count().reset_index()\n",
    "group_grave = group_grave.rename(columns={'Id_Irreg': 'Number of Irregularities by Municipality'})\n",
    "group_media = group_media.rename(columns={'Id_Irreg': 'Number of Irregularities by Municipality'})\n",
    "group_formal = group_formal.rename(columns={'Id_Irreg': 'Number of Irregularities by Municipality'})\n",
    "sns.distplot(group_grave['Number of Irregularities by Municipality'], kde=False)\n",
    "sns.distplot(group_formal['Number of Irregularities by Municipality'], kde=False)\n",
    "sns.distplot(group_media['Number of Irregularities by Municipality'], kde=False)"
   ]
  },
  {
   "cell_type": "markdown",
   "metadata": {},
   "source": [
    "## Number of Irregularities per Ministry"
   ]
  },
  {
   "cell_type": "code",
   "execution_count": 39,
   "metadata": {},
   "outputs": [
    {
     "data": {
      "text/plain": [
       "Number of irregularities in Education by Municipality    20.751905\n",
       "Orgao_Sup_cod                                            20.751905\n",
       "dtype: float64"
      ]
     },
     "execution_count": 39,
     "metadata": {},
     "output_type": "execute_result"
    }
   ],
   "source": [
    "group_educ.mean()"
   ]
  },
  {
   "cell_type": "code",
   "execution_count": 37,
   "metadata": {},
   "outputs": [
    {
     "data": {
      "text/plain": [
       "<matplotlib.axes._subplots.AxesSubplot at 0x1fdf48b08d0>"
      ]
     },
     "execution_count": 37,
     "metadata": {},
     "output_type": "execute_result"
    },
    {
     "data": {
      "image/png": "[encoded data removed]",
      "text/plain": [
       "<matplotlib.figure.Figure at 0x1fdf2a23240>"
      ]
     },
     "metadata": {},
     "output_type": "display_data"
    }
   ],
   "source": [
    "group_educ = data[['Id_Mun_Sort', 'Id_Irreg', 'Orgao_Sup_cod']][data['Orgao_Sup_cod']=='EDUC'].groupby('Id_Mun_Sort').count().reset_index()\n",
    "group_educ = group_educ.rename(columns={'Id_Irreg': \n",
    "                                            'Number of irregularities in Education by Municipality'})\n",
    "sns.distplot(group_educ['Number of irregularities in Education by Municipality'], kde=True, color='#83B0A8')"
   ]
  },
  {
   "cell_type": "code",
   "execution_count": 24,
   "metadata": {},
   "outputs": [
    {
     "data": {
      "text/plain": [
       "<matplotlib.axes._subplots.AxesSubplot at 0x1fdf3851588>"
      ]
     },
     "execution_count": 24,
     "metadata": {},
     "output_type": "execute_result"
    },
    {
     "data": {
      "image/png": "[encoded data removed]",
      "text/plain": [
       "<matplotlib.figure.Figure at 0x1fdf2c929b0>"
      ]
     },
     "metadata": {},
     "output_type": "display_data"
    }
   ],
   "source": [
    "group_educ = data[['Id_Mun_Sort', 'Id_Irreg', 'Orgao_Sup_cod']][data['Orgao_Sup_cod']=='EDUC'].groupby('Id_Mun_Sort').count().reset_index()\n",
    "group_saud = data[['Id_Mun_Sort', 'Id_Irreg', 'Orgao_Sup_cod']][data['Orgao_Sup_cod']=='SAU'].groupby('Id_Mun_Sort').count().reset_index()\n",
    "group_fome = data[['Id_Mun_Sort', 'Id_Irreg', 'Orgao_Sup_cod']][data['Orgao_Sup_cod']=='FOME'].groupby('Id_Mun_Sort').count().reset_index()\n",
    "group_educ = group_educ.rename(columns={'Id_Irreg': 'Number of Irregularities by Municipality'})\n",
    "group_saud = group_saud.rename(columns={'Id_Irreg': 'Number of Irregularities by Municipality'})\n",
    "group_fome = group_fome.rename(columns={'Id_Irreg': 'Number of Irregularities by Municipality'})\n",
    "sns.distplot(group_educ['Number of Irregularities by Municipality'], kde=False)\n",
    "sns.distplot(group_saud['Number of Irregularities by Municipality'], kde=False)\n",
    "sns.distplot(group_fome['Number of Irregularities by Municipality'], kde=False)"
   ]
  },
  {
   "cell_type": "code",
   "execution_count": null,
   "metadata": {
    "collapsed": true
   },
   "outputs": [],
   "source": []
  },
  {
   "cell_type": "code",
   "execution_count": 141,
   "metadata": {},
   "outputs": [
    {
     "data": {
      "text/html": [
       "<div>\n",
       "<style>\n",
       "    .dataframe thead tr:only-child th {\n",
       "        text-align: right;\n",
       "    }\n",
       "\n",
       "    .dataframe thead th {\n",
       "        text-align: left;\n",
       "    }\n",
       "\n",
       "    .dataframe tbody tr th {\n",
       "        vertical-align: top;\n",
       "    }\n",
       "</style>\n",
       "<table border=\"1\" class=\"dataframe\">\n",
       "  <thead>\n",
       "    <tr style=\"text-align: right;\">\n",
       "      <th></th>\n",
       "      <th>Tipo_constatacao</th>\n",
       "      <th>Id_Irreg</th>\n",
       "    </tr>\n",
       "  </thead>\n",
       "  <tbody>\n",
       "    <tr>\n",
       "      <th>0</th>\n",
       "      <td>Falha Média</td>\n",
       "      <td>64547</td>\n",
       "    </tr>\n",
       "    <tr>\n",
       "      <th>1</th>\n",
       "      <td>Falha Grave</td>\n",
       "      <td>11590</td>\n",
       "    </tr>\n",
       "    <tr>\n",
       "      <th>2</th>\n",
       "      <td>Falha Formal</td>\n",
       "      <td>5532</td>\n",
       "    </tr>\n",
       "  </tbody>\n",
       "</table>\n",
       "</div>"
      ],
      "text/plain": [
       "  Tipo_constatacao  Id_Irreg\n",
       "0      Falha Média     64547\n",
       "1      Falha Grave     11590\n",
       "2     Falha Formal      5532"
      ]
     },
     "execution_count": 141,
     "metadata": {},
     "output_type": "execute_result"
    }
   ],
   "source": [
    "data[['Tipo_constatacao', 'Id_Irreg']].groupby('Tipo_constatacao').count().sort_values(by='Id_Irreg', ascending=False).reset_index()"
   ]
  },
  {
   "cell_type": "code",
   "execution_count": 142,
   "metadata": {},
   "outputs": [
    {
     "data": {
      "text/html": [
       "<div>\n",
       "<style>\n",
       "    .dataframe thead tr:only-child th {\n",
       "        text-align: right;\n",
       "    }\n",
       "\n",
       "    .dataframe thead th {\n",
       "        text-align: left;\n",
       "    }\n",
       "\n",
       "    .dataframe tbody tr th {\n",
       "        vertical-align: top;\n",
       "    }\n",
       "</style>\n",
       "<table border=\"1\" class=\"dataframe\">\n",
       "  <thead>\n",
       "    <tr style=\"text-align: right;\">\n",
       "      <th></th>\n",
       "      <th>Orgao_Sup_cod</th>\n",
       "      <th>Id_Irreg</th>\n",
       "    </tr>\n",
       "  </thead>\n",
       "  <tbody>\n",
       "    <tr>\n",
       "      <th>0</th>\n",
       "      <td>EDUC</td>\n",
       "      <td>24487</td>\n",
       "    </tr>\n",
       "    <tr>\n",
       "      <th>1</th>\n",
       "      <td>SAU</td>\n",
       "      <td>24099</td>\n",
       "    </tr>\n",
       "    <tr>\n",
       "      <th>2</th>\n",
       "      <td>FOME</td>\n",
       "      <td>21179</td>\n",
       "    </tr>\n",
       "    <tr>\n",
       "      <th>3</th>\n",
       "      <td>CID</td>\n",
       "      <td>3400</td>\n",
       "    </tr>\n",
       "    <tr>\n",
       "      <th>4</th>\n",
       "      <td>AGRA</td>\n",
       "      <td>1469</td>\n",
       "    </tr>\n",
       "    <tr>\n",
       "      <th>5</th>\n",
       "      <td>TUR</td>\n",
       "      <td>1217</td>\n",
       "    </tr>\n",
       "    <tr>\n",
       "      <th>6</th>\n",
       "      <td>COM</td>\n",
       "      <td>1161</td>\n",
       "    </tr>\n",
       "    <tr>\n",
       "      <th>7</th>\n",
       "      <td>NAC</td>\n",
       "      <td>1065</td>\n",
       "    </tr>\n",
       "    <tr>\n",
       "      <th>8</th>\n",
       "      <td>AGRI</td>\n",
       "      <td>873</td>\n",
       "    </tr>\n",
       "    <tr>\n",
       "      <th>9</th>\n",
       "      <td>ESP</td>\n",
       "      <td>826</td>\n",
       "    </tr>\n",
       "    <tr>\n",
       "      <th>10</th>\n",
       "      <td>PREV</td>\n",
       "      <td>734</td>\n",
       "    </tr>\n",
       "    <tr>\n",
       "      <th>11</th>\n",
       "      <td>CGU</td>\n",
       "      <td>365</td>\n",
       "    </tr>\n",
       "    <tr>\n",
       "      <th>12</th>\n",
       "      <td>FAZ</td>\n",
       "      <td>165</td>\n",
       "    </tr>\n",
       "    <tr>\n",
       "      <th>13</th>\n",
       "      <td>COMEX</td>\n",
       "      <td>116</td>\n",
       "    </tr>\n",
       "    <tr>\n",
       "      <th>14</th>\n",
       "      <td>AMB</td>\n",
       "      <td>110</td>\n",
       "    </tr>\n",
       "    <tr>\n",
       "      <th>15</th>\n",
       "      <td>TRAB</td>\n",
       "      <td>106</td>\n",
       "    </tr>\n",
       "    <tr>\n",
       "      <th>16</th>\n",
       "      <td>TEC</td>\n",
       "      <td>104</td>\n",
       "    </tr>\n",
       "    <tr>\n",
       "      <th>17</th>\n",
       "      <td>CULT</td>\n",
       "      <td>68</td>\n",
       "    </tr>\n",
       "    <tr>\n",
       "      <th>18</th>\n",
       "      <td>JUST</td>\n",
       "      <td>66</td>\n",
       "    </tr>\n",
       "    <tr>\n",
       "      <th>19</th>\n",
       "      <td>TRANSP</td>\n",
       "      <td>28</td>\n",
       "    </tr>\n",
       "    <tr>\n",
       "      <th>20</th>\n",
       "      <td>PESC</td>\n",
       "      <td>17</td>\n",
       "    </tr>\n",
       "    <tr>\n",
       "      <th>21</th>\n",
       "      <td>MIN</td>\n",
       "      <td>11</td>\n",
       "    </tr>\n",
       "    <tr>\n",
       "      <th>22</th>\n",
       "      <td>PLAN</td>\n",
       "      <td>3</td>\n",
       "    </tr>\n",
       "  </tbody>\n",
       "</table>\n",
       "</div>"
      ],
      "text/plain": [
       "   Orgao_Sup_cod  Id_Irreg\n",
       "0           EDUC     24487\n",
       "1            SAU     24099\n",
       "2           FOME     21179\n",
       "3            CID      3400\n",
       "4           AGRA      1469\n",
       "5            TUR      1217\n",
       "6            COM      1161\n",
       "7            NAC      1065\n",
       "8           AGRI       873\n",
       "9            ESP       826\n",
       "10          PREV       734\n",
       "11           CGU       365\n",
       "12           FAZ       165\n",
       "13         COMEX       116\n",
       "14           AMB       110\n",
       "15          TRAB       106\n",
       "16           TEC       104\n",
       "17          CULT        68\n",
       "18          JUST        66\n",
       "19        TRANSP        28\n",
       "20          PESC        17\n",
       "21           MIN        11\n",
       "22          PLAN         3"
      ]
     },
     "execution_count": 142,
     "metadata": {},
     "output_type": "execute_result"
    }
   ],
   "source": [
    "data[['Orgao_Sup_cod', 'Id_Irreg']].groupby('Orgao_Sup_cod').count().sort_values(by='Id_Irreg', ascending=False).reset_index()"
   ]
  },
  {
   "cell_type": "markdown",
   "metadata": {},
   "source": [
    "# Frequency of words/bigrams"
   ]
  },
  {
   "cell_type": "code",
   "execution_count": 151,
   "metadata": {},
   "outputs": [
    {
     "data": {
      "text/html": [
       "<div>\n",
       "<style>\n",
       "    .dataframe thead tr:only-child th {\n",
       "        text-align: right;\n",
       "    }\n",
       "\n",
       "    .dataframe thead th {\n",
       "        text-align: left;\n",
       "    }\n",
       "\n",
       "    .dataframe tbody tr th {\n",
       "        vertical-align: top;\n",
       "    }\n",
       "</style>\n",
       "<table border=\"1\" class=\"dataframe\">\n",
       "  <thead>\n",
       "    <tr style=\"text-align: right;\">\n",
       "      <th></th>\n",
       "      <th>Id_Irreg</th>\n",
       "      <th>Id_Mun_Sort</th>\n",
       "      <th>Municipio</th>\n",
       "      <th>UF</th>\n",
       "      <th>Ed_Sorteio</th>\n",
       "      <th>Ano_Sorteio</th>\n",
       "      <th>Ano_Auditoria</th>\n",
       "      <th>Nr_OS</th>\n",
       "      <th>Montante_fisc</th>\n",
       "      <th>Orgao_Sup</th>\n",
       "      <th>...</th>\n",
       "      <th>Tipo_constatacao</th>\n",
       "      <th>descricao_sumaria</th>\n",
       "      <th>Ind_class</th>\n",
       "      <th>Class</th>\n",
       "      <th>Class_n</th>\n",
       "      <th>Class_2</th>\n",
       "      <th>tokens</th>\n",
       "      <th>bigrams</th>\n",
       "      <th>features</th>\n",
       "      <th>length</th>\n",
       "    </tr>\n",
       "  </thead>\n",
       "  <tbody>\n",
       "    <tr>\n",
       "      <th>0</th>\n",
       "      <td>Afogados da Ingazeira_040_1</td>\n",
       "      <td>Afogados da Ingazeira_040</td>\n",
       "      <td>Afogados da Ingazeira</td>\n",
       "      <td>PE</td>\n",
       "      <td>40</td>\n",
       "      <td>2015</td>\n",
       "      <td>2015</td>\n",
       "      <td>201501415</td>\n",
       "      <td>181192.8</td>\n",
       "      <td>MINISTERIO DA SAUDE</td>\n",
       "      <td>...</td>\n",
       "      <td>Falha Formal</td>\n",
       "      <td>Contrapartida municipal na Assistência Farmacê...</td>\n",
       "      <td>0</td>\n",
       "      <td>NaN</td>\n",
       "      <td>NaN</td>\n",
       "      <td>NaN</td>\n",
       "      <td>[contrapartida, municip, assistência, farmacêu...</td>\n",
       "      <td>[(contrapartida, municip), (municip, assistênc...</td>\n",
       "      <td>[contrapartida, municip, assistência, farmacêu...</td>\n",
       "      <td>16</td>\n",
       "    </tr>\n",
       "    <tr>\n",
       "      <th>1</th>\n",
       "      <td>Afogados da Ingazeira_040_2</td>\n",
       "      <td>Afogados da Ingazeira_040</td>\n",
       "      <td>Afogados da Ingazeira</td>\n",
       "      <td>PE</td>\n",
       "      <td>40</td>\n",
       "      <td>2015</td>\n",
       "      <td>2015</td>\n",
       "      <td>201501415</td>\n",
       "      <td>181192.8</td>\n",
       "      <td>MINISTERIO DA SAUDE</td>\n",
       "      <td>...</td>\n",
       "      <td>Falha Formal</td>\n",
       "      <td>Falta de atestado de conferência e recebimento...</td>\n",
       "      <td>0</td>\n",
       "      <td>NaN</td>\n",
       "      <td>NaN</td>\n",
       "      <td>NaN</td>\n",
       "      <td>[falta, atestado, conferência, recebimento, me...</td>\n",
       "      <td>[(falta, atestado), (atestado, conferência), (...</td>\n",
       "      <td>[falta, atestado, conferência, recebimento, me...</td>\n",
       "      <td>11</td>\n",
       "    </tr>\n",
       "    <tr>\n",
       "      <th>2</th>\n",
       "      <td>Afogados da Ingazeira_040_3</td>\n",
       "      <td>Afogados da Ingazeira_040</td>\n",
       "      <td>Afogados da Ingazeira</td>\n",
       "      <td>PE</td>\n",
       "      <td>40</td>\n",
       "      <td>2015</td>\n",
       "      <td>2015</td>\n",
       "      <td>201501415</td>\n",
       "      <td>181192.8</td>\n",
       "      <td>MINISTERIO DA SAUDE</td>\n",
       "      <td>...</td>\n",
       "      <td>Falha Média</td>\n",
       "      <td>Ineficiência do controle de estoque de medicam...</td>\n",
       "      <td>0</td>\n",
       "      <td>NaN</td>\n",
       "      <td>NaN</td>\n",
       "      <td>NaN</td>\n",
       "      <td>[ineficiência, control, estoqu, medicamento, u...</td>\n",
       "      <td>[(ineficiência, control), (control, estoqu), (...</td>\n",
       "      <td>[ineficiência, control, estoqu, medicamento, u...</td>\n",
       "      <td>7</td>\n",
       "    </tr>\n",
       "    <tr>\n",
       "      <th>3</th>\n",
       "      <td>Afogados da Ingazeira_040_4</td>\n",
       "      <td>Afogados da Ingazeira_040</td>\n",
       "      <td>Afogados da Ingazeira</td>\n",
       "      <td>PE</td>\n",
       "      <td>40</td>\n",
       "      <td>2015</td>\n",
       "      <td>2015</td>\n",
       "      <td>201501415</td>\n",
       "      <td>181192.8</td>\n",
       "      <td>MINISTERIO DA SAUDE</td>\n",
       "      <td>...</td>\n",
       "      <td>Falha Média</td>\n",
       "      <td>Ineficiência do controle de estoque de medicam...</td>\n",
       "      <td>0</td>\n",
       "      <td>NaN</td>\n",
       "      <td>NaN</td>\n",
       "      <td>NaN</td>\n",
       "      <td>[ineficiência, control, estoqu, medicamento, a...</td>\n",
       "      <td>[(ineficiência, control), (control, estoqu), (...</td>\n",
       "      <td>[ineficiência, control, estoqu, medicamento, a...</td>\n",
       "      <td>9</td>\n",
       "    </tr>\n",
       "    <tr>\n",
       "      <th>4</th>\n",
       "      <td>Afogados da Ingazeira_040_5</td>\n",
       "      <td>Afogados da Ingazeira_040</td>\n",
       "      <td>Afogados da Ingazeira</td>\n",
       "      <td>PE</td>\n",
       "      <td>40</td>\n",
       "      <td>2015</td>\n",
       "      <td>2015</td>\n",
       "      <td>201501415</td>\n",
       "      <td>181192.8</td>\n",
       "      <td>MINISTERIO DA SAUDE</td>\n",
       "      <td>...</td>\n",
       "      <td>Falha Média</td>\n",
       "      <td>Previsões editalícias restritivas ao caráter c...</td>\n",
       "      <td>0</td>\n",
       "      <td>NaN</td>\n",
       "      <td>NaN</td>\n",
       "      <td>NaN</td>\n",
       "      <td>[previsõ, editalícia, restritiva, caráter, com...</td>\n",
       "      <td>[(previsõ, editalícia), (editalícia, restritiv...</td>\n",
       "      <td>[previsõ, editalícia, restritiva, caráter, com...</td>\n",
       "      <td>9</td>\n",
       "    </tr>\n",
       "  </tbody>\n",
       "</table>\n",
       "<p>5 rows × 23 columns</p>\n",
       "</div>"
      ],
      "text/plain": [
       "                      Id_Irreg                Id_Mun_Sort  \\\n",
       "0  Afogados da Ingazeira_040_1  Afogados da Ingazeira_040   \n",
       "1  Afogados da Ingazeira_040_2  Afogados da Ingazeira_040   \n",
       "2  Afogados da Ingazeira_040_3  Afogados da Ingazeira_040   \n",
       "3  Afogados da Ingazeira_040_4  Afogados da Ingazeira_040   \n",
       "4  Afogados da Ingazeira_040_5  Afogados da Ingazeira_040   \n",
       "\n",
       "               Municipio  UF  Ed_Sorteio  Ano_Sorteio  Ano_Auditoria  \\\n",
       "0  Afogados da Ingazeira  PE          40         2015           2015   \n",
       "1  Afogados da Ingazeira  PE          40         2015           2015   \n",
       "2  Afogados da Ingazeira  PE          40         2015           2015   \n",
       "3  Afogados da Ingazeira  PE          40         2015           2015   \n",
       "4  Afogados da Ingazeira  PE          40         2015           2015   \n",
       "\n",
       "       Nr_OS  Montante_fisc            Orgao_Sup  ...   Tipo_constatacao  \\\n",
       "0  201501415       181192.8  MINISTERIO DA SAUDE  ...       Falha Formal   \n",
       "1  201501415       181192.8  MINISTERIO DA SAUDE  ...       Falha Formal   \n",
       "2  201501415       181192.8  MINISTERIO DA SAUDE  ...        Falha Média   \n",
       "3  201501415       181192.8  MINISTERIO DA SAUDE  ...        Falha Média   \n",
       "4  201501415       181192.8  MINISTERIO DA SAUDE  ...        Falha Média   \n",
       "\n",
       "                                   descricao_sumaria Ind_class Class Class_n  \\\n",
       "0  Contrapartida municipal na Assistência Farmacê...         0   NaN     NaN   \n",
       "1  Falta de atestado de conferência e recebimento...         0   NaN     NaN   \n",
       "2  Ineficiência do controle de estoque de medicam...         0   NaN     NaN   \n",
       "3  Ineficiência do controle de estoque de medicam...         0   NaN     NaN   \n",
       "4  Previsões editalícias restritivas ao caráter c...         0   NaN     NaN   \n",
       "\n",
       "   Class_2                                             tokens  \\\n",
       "0      NaN  [contrapartida, municip, assistência, farmacêu...   \n",
       "1      NaN  [falta, atestado, conferência, recebimento, me...   \n",
       "2      NaN  [ineficiência, control, estoqu, medicamento, u...   \n",
       "3      NaN  [ineficiência, control, estoqu, medicamento, a...   \n",
       "4      NaN  [previsõ, editalícia, restritiva, caráter, com...   \n",
       "\n",
       "                                             bigrams  \\\n",
       "0  [(contrapartida, municip), (municip, assistênc...   \n",
       "1  [(falta, atestado), (atestado, conferência), (...   \n",
       "2  [(ineficiência, control), (control, estoqu), (...   \n",
       "3  [(ineficiência, control), (control, estoqu), (...   \n",
       "4  [(previsõ, editalícia), (editalícia, restritiv...   \n",
       "\n",
       "                                            features length  \n",
       "0  [contrapartida, municip, assistência, farmacêu...     16  \n",
       "1  [falta, atestado, conferência, recebimento, me...     11  \n",
       "2  [ineficiência, control, estoqu, medicamento, u...      7  \n",
       "3  [ineficiência, control, estoqu, medicamento, a...      9  \n",
       "4  [previsõ, editalícia, restritiva, caráter, com...      9  \n",
       "\n",
       "[5 rows x 23 columns]"
      ]
     },
     "execution_count": 151,
     "metadata": {},
     "output_type": "execute_result"
    }
   ],
   "source": [
    "#list of portuguese stopwords\n",
    "stopwords = nltk.corpus.stopwords.words('portuguese')\n",
    "extra = ['nº', 'N.º', 'r'] # Should we include these extra stopwords? - *r comes from R $ *\n",
    "[stopwords.append(word) for word in extra];  \n",
    "    \n",
    "#tokens\n",
    "data['tokens'] = data['descricao_sumaria'].apply(tok_text) \n",
    "\n",
    "#bigrams\n",
    "bigrams = [list(nltk.bigrams(text)) for text in data['tokens']]\n",
    "data['bigrams'] = bigrams\n",
    "\n",
    "#tokens and bigrams\n",
    "features = data['descricao_sumaria'].apply(tok_text) + [list(nltk.bigrams(text)) for text in data['tokens']]\n",
    "data['features'] = features\n",
    "\n",
    "#counting number of tokens\n",
    "data['length'] = data['tokens'].apply(len)\n",
    "\n",
    "data.head()"
   ]
  },
  {
   "cell_type": "code",
   "execution_count": 152,
   "metadata": {},
   "outputs": [
    {
     "name": "stdout",
     "output_type": "stream",
     "text": [
      "Entire dataset:  [('ausência', 14558), ('recurso', 12174), ('programa', 11678), ('saúd', 9663), ('municip', 8002), ('família', 7579), ('falta', 6320), ('despesa', 5660), ('escolar', 5289), ('control', 5149), ('pagamento', 4723), ('processo', 4585), ('conselho', 4487), ('execução', 4391), ('licitatório', 4281), ('bolsa', 4028), ('beneficiário', 3849), ('serviço', 3822), ('município', 3661), ('convênio', 3646)]\n"
     ]
    }
   ],
   "source": [
    "freqTokens = word_freq(data, 'tokens')\n",
    "print('Entire dataset: ',freqTokens.most_common()[:20])"
   ]
  },
  {
   "cell_type": "code",
   "execution_count": 154,
   "metadata": {},
   "outputs": [
    {
     "data": {
      "text/plain": [
       "count     9738.0\n",
       "mean        64.0\n",
       "std        389.0\n",
       "min          1.0\n",
       "25%          1.0\n",
       "50%          3.0\n",
       "75%         13.0\n",
       "max      14558.0\n",
       "dtype: float64"
      ]
     },
     "execution_count": 154,
     "metadata": {},
     "output_type": "execute_result"
    }
   ],
   "source": [
    "tokens = pd.Series(dict(freqTokens))\n",
    "tokens = tokens.sort_values(ascending=False)\n",
    "tokens.describe().round()"
   ]
  },
  {
   "cell_type": "code",
   "execution_count": 153,
   "metadata": {},
   "outputs": [
    {
     "name": "stdout",
     "output_type": "stream",
     "text": [
      "Entire dataset:  [(('bolsa', 'família'), 3737), (('processo', 'licitatório'), 3108), (('programa', 'bolsa'), 2865), (('municip', 'saúd'), 2767), (('saúd', 'família'), 2169), (('conselho', 'municip'), 2101), (('contrato', 'repass'), 1965), (('beneficiário', 'programa'), 1418), (('recurso', 'federai'), 1361), (('ausência', 'comprovação'), 1356), (('assistência', 'social'), 1332), (('alimentação', 'escolar'), 1248), (('per', 'capita'), 1217), (('transport', 'escolar'), 1213), (('control', 'social'), 1212), (('renda', 'per'), 1185), (('prestação', 'conta'), 1160), (('atenção', 'básica'), 1139), (('prefeitura', 'municip'), 1091), (('partido', 'político'), 1067)]\n"
     ]
    }
   ],
   "source": [
    "freqBigrams = word_freq(data, 'bigrams')\n",
    "print('Entire dataset: ',freqBigrams.most_common()[:20])"
   ]
  },
  {
   "cell_type": "code",
   "execution_count": 155,
   "metadata": {},
   "outputs": [
    {
     "data": {
      "text/plain": [
       "count    103182.0\n",
       "mean          5.0\n",
       "std          37.0\n",
       "min           1.0\n",
       "25%           1.0\n",
       "50%           1.0\n",
       "75%           2.0\n",
       "max        3737.0\n",
       "dtype: float64"
      ]
     },
     "execution_count": 155,
     "metadata": {},
     "output_type": "execute_result"
    }
   ],
   "source": [
    "bigrams = pd.Series(dict(freqBigrams))\n",
    "bigrams = bigrams.sort_values(ascending=False)\n",
    "bigrams.describe().round()"
   ]
  },
  {
   "cell_type": "code",
   "execution_count": 156,
   "metadata": {},
   "outputs": [
    {
     "name": "stdout",
     "output_type": "stream",
     "text": [
      "Entire dataset:  [('ausência', 14558), ('recurso', 12174), ('programa', 11678), ('saúd', 9663), ('municip', 8002), ('família', 7579), ('falta', 6320), ('despesa', 5660), ('escolar', 5289), ('control', 5149), ('pagamento', 4723), ('processo', 4585), ('conselho', 4487), ('execução', 4391), ('licitatório', 4281), ('bolsa', 4028), ('beneficiário', 3849), ('serviço', 3822), (('bolsa', 'família'), 3737), ('município', 3661)]\n"
     ]
    }
   ],
   "source": [
    "freqFeatures = word_freq(data, 'features')\n",
    "print('Entire dataset: ',freqFeatures.most_common()[:20])"
   ]
  },
  {
   "cell_type": "code",
   "execution_count": 157,
   "metadata": {},
   "outputs": [
    {
     "data": {
      "text/plain": [
       "count    112920.0\n",
       "mean         10.0\n",
       "std         121.0\n",
       "min           1.0\n",
       "25%           1.0\n",
       "50%           1.0\n",
       "75%           3.0\n",
       "max       14558.0\n",
       "dtype: float64"
      ]
     },
     "execution_count": 157,
     "metadata": {},
     "output_type": "execute_result"
    }
   ],
   "source": [
    "features = pd.Series(dict(freqFeatures))\n",
    "features = features.sort_values(ascending=False)\n",
    "features.describe().round()"
   ]
  },
  {
   "cell_type": "code",
   "execution_count": null,
   "metadata": {
    "collapsed": true
   },
   "outputs": [],
   "source": []
  }
 ],
 "metadata": {
  "kernelspec": {
   "display_name": "Python 3",
   "language": "python",
   "name": "python3"
  },
  "language_info": {
   "codemirror_mode": {
    "name": "ipython",
    "version": 3
   },
   "file_extension": ".py",
   "mimetype": "text/x-python",
   "name": "python",
   "nbconvert_exporter": "python",
   "pygments_lexer": "ipython3",
   "version": "3.6.1"
  },
  "toc": {
   "nav_menu": {},
   "number_sections": true,
   "sideBar": true,
   "skip_h1_title": false,
   "title_cell": "Table of Contents",
   "title_sidebar": "Contents",
   "toc_cell": false,
   "toc_position": {
    "height": "calc(100% - 180px)",
    "left": "10px",
    "top": "150px",
    "width": "305px"
   },
   "toc_section_display": true,
   "toc_window_display": true
  }
 },
 "nbformat": 4,
 "nbformat_minor": 2
}
