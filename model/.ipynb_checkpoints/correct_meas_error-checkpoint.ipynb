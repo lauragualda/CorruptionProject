{
 "cells": [
  {
   "cell_type": "code",
   "execution_count": 2,
   "metadata": {
    "collapsed": true
   },
   "outputs": [],
   "source": [
    "import numpy as np\n",
    "import pandas as pd\n",
    "\n",
    "%matplotlib inline"
   ]
  },
  {
   "cell_type": "markdown",
   "metadata": {},
   "source": [
    "# Functions\n",
    "\n",
    "Confusion matrix: By definition a confusion matrix C is such that $C_{i, j}$ is equal to the number of observations known to be in group i but predicted to be in group j"
   ]
  },
  {
   "cell_type": "code",
   "execution_count": 6,
   "metadata": {
    "collapsed": true
   },
   "outputs": [],
   "source": [
    "def delta_method(beta, grad_beta, sd_beta):\n",
    "    \n",
    "    var_beta = sd_beta**2\n",
    "    \n",
    "    var_beta_mm = (grad_beta**2)*var_beta\n",
    "    \n",
    "    return var_beta_mm  "
   ]
  },
  {
   "cell_type": "code",
   "execution_count": 7,
   "metadata": {
    "collapsed": true
   },
   "outputs": [],
   "source": [
    "def transf_v1(P, P_hat, r0, r1, termo_erro):\n",
    "    \n",
    "    numerador = ((1- r0 - r1)*P*(1-P)) - termo_erro\n",
    "\n",
    "    denominador = (P_hat*(1-P_hat)) - termo_erro\n",
    "    \n",
    "    transf = numerador/denominador\n",
    "    \n",
    "    return transf"
   ]
  },
  {
   "cell_type": "code",
   "execution_count": 8,
   "metadata": {
    "collapsed": true
   },
   "outputs": [],
   "source": [
    "def transf_v2(P, r0, r1, termo_cov):\n",
    "    \n",
    "    var_u = r1 + (r0 - r1)*P - (r1 - (r0 + r1)*P)**2\n",
    "    cov_x_u = -(r1 + r0)*P*(1-P)\n",
    "    \n",
    "    numerador = var_u + cov_x_u\n",
    "    denominador = termo_cov #nesse caso o termo já é o inverso\n",
    "    \n",
    "    transf = 1 - (numerador*denominador)\n",
    "    \n",
    "    return transf"
   ]
  },
  {
   "cell_type": "markdown",
   "metadata": {},
   "source": [
    "## Testing"
   ]
  },
  {
   "cell_type": "code",
   "execution_count": 11,
   "metadata": {},
   "outputs": [
    {
     "data": {
      "text/plain": [
       "0.0634825670257968"
      ]
     },
     "execution_count": 11,
     "metadata": {},
     "output_type": "execute_result"
    }
   ],
   "source": [
    "var_c = 0.25004973120490126 #\\% of schools in municipalities with corruption\n",
    "termo = 5.36\n",
    "covs = var_c - (1/termo)\n",
    "covs"
   ]
  },
  {
   "cell_type": "code",
   "execution_count": 12,
   "metadata": {},
   "outputs": [],
   "source": [
    "P_est = 0.423559 #municipalities audited in Education\n",
    "P_true = 0.35 #Paper Ferraz, Finan, Moreira\n",
    "r_0 = 0.05540628 #R\n",
    "r_1 = 0.1860478 #R"
   ]
  },
  {
   "cell_type": "code",
   "execution_count": 13,
   "metadata": {},
   "outputs": [
    {
     "data": {
      "text/plain": [
       "1.6562451958336055"
      ]
     },
     "execution_count": 13,
     "metadata": {},
     "output_type": "execute_result"
    }
   ],
   "source": [
    "1/transf_v1(P_true, P_est, r_0, r_1, covs)"
   ]
  },
  {
   "cell_type": "code",
   "execution_count": 14,
   "metadata": {},
   "outputs": [
    {
     "data": {
      "text/plain": [
       "1.6734756132693105"
      ]
     },
     "execution_count": 14,
     "metadata": {},
     "output_type": "execute_result"
    }
   ],
   "source": [
    "1/transf_v2(P_true, r_0, r_1, termo)"
   ]
  },
  {
   "cell_type": "markdown",
   "metadata": {},
   "source": [
    "### Negative Binomial"
   ]
  },
  {
   "cell_type": "code",
   "execution_count": 15,
   "metadata": {},
   "outputs": [
    {
     "name": "stdout",
     "output_type": "stream",
     "text": [
      "[[903  50]\n",
      " [ 46 252]]\n"
     ]
    }
   ],
   "source": [
    "matrix_total = np.array([[903, 50],[46, 252]])\n",
    "print(matrix_total)"
   ]
  },
  {
   "cell_type": "code",
   "execution_count": 16,
   "metadata": {},
   "outputs": [
    {
     "data": {
      "text/plain": [
       "1251"
      ]
     },
     "execution_count": 16,
     "metadata": {},
     "output_type": "execute_result"
    }
   ],
   "source": [
    "sum(sum(matrix_total))"
   ]
  },
  {
   "cell_type": "code",
   "execution_count": 17,
   "metadata": {
    "collapsed": true
   },
   "outputs": [],
   "source": [
    "pi_00 = matrix_total[0][0]/sum(sum(matrix_total))\n",
    "pi_01 = matrix_total[0][1]/sum(sum(matrix_total))\n",
    "pi_11 = matrix_total[1][1]/sum(sum(matrix_total))\n",
    "pi_10 = matrix_total[1][0]/sum(sum(matrix_total))"
   ]
  },
  {
   "cell_type": "code",
   "execution_count": 18,
   "metadata": {},
   "outputs": [
    {
     "name": "stdout",
     "output_type": "stream",
     "text": [
      "1.66 \n",
      " 1.6734756132693105\n"
     ]
    }
   ],
   "source": [
    "P_est = 0.423559 #municipalities audited in Education\n",
    "P_true = 0.35 #Paper Ferraz, Finan, Moreira\n",
    "r_0 = 0.05540628 #R\n",
    "r_1 = 0.1860478 #R\n",
    "termo_bin_neg_1 = transf_v1(P_true, P_est, r_0, r_1, covs)\n",
    "termo_bin_neg_2 = transf_v2(P_true, r_0, r_1, termo)\n",
    "print(round(1/termo_bin_neg_1,2),'\\n', 1/termo_bin_neg_2)"
   ]
  },
  {
   "cell_type": "markdown",
   "metadata": {},
   "source": [
    "### Classification"
   ]
  },
  {
   "cell_type": "code",
   "execution_count": 19,
   "metadata": {},
   "outputs": [
    {
     "name": "stdout",
     "output_type": "stream",
     "text": [
      "[[200  17]\n",
      " [ 10  86]]\n"
     ]
    }
   ],
   "source": [
    "matrix_educ = np.array([[200, 17],[10, 86]])\n",
    "print(matrix_educ)"
   ]
  },
  {
   "cell_type": "code",
   "execution_count": 20,
   "metadata": {},
   "outputs": [
    {
     "name": "stdout",
     "output_type": "stream",
     "text": [
      "1.47 \n",
      " 1.38625919645\n"
     ]
    }
   ],
   "source": [
    "P_est = 0.423559 #municipalities audited in Education\n",
    "P_true = 0.35 #Paper Ferraz, Finan, Moreira\n",
    "r_0 = matrix_educ[0][1]/sum(matrix_educ.T)[0]\n",
    "r_1 = matrix_educ[1][0]/sum(matrix_educ.T)[1]\n",
    "termo_class_1 = transf_v1(P_true, P_est, r_0, r_1, covs)\n",
    "termo_class_2 = transf_v2(P_true, r_0, r_1, termo)\n",
    "print(round(1/termo_class_1,2),'\\n', 1/termo_class_2)"
   ]
  },
  {
   "cell_type": "markdown",
   "metadata": {},
   "source": [
    "## Betas"
   ]
  },
  {
   "cell_type": "code",
   "execution_count": 21,
   "metadata": {
    "collapsed": true
   },
   "outputs": [],
   "source": [
    "variables = ['mat' ,'port', 'fail', 'drop']\n",
    "betas = [-0.1101, -0.1110, 0.0059, 0.0030]\n",
    "sd = [0.025, 0.024, 0.003, 0.001]\n",
    "vec_termos = [5.34589020938, 5.34589020938, 5.36021844346, 5.36021844346]"
   ]
  },
  {
   "cell_type": "markdown",
   "metadata": {},
   "source": [
    "### Negative Binomial"
   ]
  },
  {
   "cell_type": "code",
   "execution_count": 36,
   "metadata": {
    "collapsed": true
   },
   "outputs": [],
   "source": [
    "matrix_educ = np.array([[200, 17],[10, 86]])"
   ]
  },
  {
   "cell_type": "code",
   "execution_count": 30,
   "metadata": {},
   "outputs": [
    {
     "name": "stdout",
     "output_type": "stream",
     "text": [
      "coef: [-0.18235259606128, -0.1838432167375302, 0.009771846655418272, 0.004968735587500816] \n",
      " sd: [0.041406129895840145, 0.039749884700006531, 0.0049687355875008164, 0.0016562451958336056] \n",
      " t-test: [-4.4039999999999999, -4.625, 1.9666666666666668, 2.9999999999999996]\n"
     ]
    }
   ],
   "source": [
    "P_est = 0.423559 #municipalities audited in Education\n",
    "P_true = 0.35 #Paper Ferraz, Finan, Moreira\n",
    "r_0 = 0.05540628 #R\n",
    "r_1 = 0.1860478 #R\n",
    "\n",
    "betas_mm_nb = []\n",
    "sd_mm_nb = []\n",
    "test_nb = []\n",
    "for i in range(len(variables)):\n",
    "    grad_beta_nb = 1/transf_v1(P_true, P_est, r_0, r_1,covs)\n",
    "    var = delta_method(betas[i], grad_beta_nb, sd[i])\n",
    "\n",
    "    betas_mm_nb.append(grad_beta_nb*betas[i])\n",
    "    sd_mm_nb.append(np.sqrt(var))\n",
    "    test_nb.append(grad_beta_nb*betas[i]/np.sqrt(var))\n",
    "\n",
    "print('coef:', betas_mm_nb,\n",
    "      '\\n sd:', sd_mm_nb,\n",
    "      '\\n t-test:', test_nb)"
   ]
  },
  {
   "cell_type": "markdown",
   "metadata": {},
   "source": [
    "#### We used this transformation:"
   ]
  },
  {
   "cell_type": "code",
   "execution_count": 37,
   "metadata": {},
   "outputs": [
    {
     "name": "stdout",
     "output_type": "stream",
     "text": [
      "1.6705140039052677\n",
      "1.6705140039052677\n",
      "1.6735215465473279\n",
      "1.6735215465473279\n",
      "coef: [-0.18392359182996998, -0.18542705443348473, 0.009873777124629234, 0.005020564639641983] \n",
      " sd: [0.041762850097631699, 0.040092336093726429, 0.0050205646396419834, 0.0016735215465473279] \n",
      " t-test: [-4.4039999999999999, -4.625, 1.9666666666666668, 3.0]\n"
     ]
    }
   ],
   "source": [
    "P_est = 0.423559 #municipalities audited in Education\n",
    "P_true = 0.35 #Paper Ferraz, Finan, Moreira\n",
    "r_0 = 0.05540628 #R\n",
    "r_1 = 0.1860478 #R\n",
    "\n",
    "betas_mm_nb = []\n",
    "sd_mm_nb = []\n",
    "test_nb = []\n",
    "for i in range(len(variables)):\n",
    "    termo = vec_termos[i]\n",
    "    grad_beta_nb = 1/transf_v2(P_true, r_0, r_1, termo)\n",
    "    print(grad_beta_nb)\n",
    "    var = delta_method(betas[i], grad_beta_nb, sd[i])\n",
    "\n",
    "    betas_mm_nb.append(grad_beta_nb*betas[i])\n",
    "    sd_mm_nb.append(np.sqrt(var))\n",
    "    test_nb.append(grad_beta_nb*betas[i]/np.sqrt(var))\n",
    "\n",
    "print('coef:', betas_mm_nb,\n",
    "      '\\n sd:', sd_mm_nb,\n",
    "      '\\n t-test:', test_nb)"
   ]
  },
  {
   "cell_type": "markdown",
   "metadata": {},
   "source": [
    "### Classification"
   ]
  },
  {
   "cell_type": "code",
   "execution_count": 33,
   "metadata": {},
   "outputs": [
    {
     "name": "stdout",
     "output_type": "stream",
     "text": [
      "coef: [-0.16238961429801332, -0.16371704983723412, 0.0087020774237809122, 0.0044247851307360579] \n",
      " sd: [0.036873209422800479, 0.035398281045888463, 0.0044247851307360579, 0.0014749283769120191] \n",
      " t-test: [-4.4040000000000008, -4.6249999999999991, 1.9666666666666663, 3.0000000000000004]\n"
     ]
    }
   ],
   "source": [
    "P_est = 0.423559 #municipalities audited in Education\n",
    "P_true = 0.35 #Paper Ferraz, Finan, Moreira\n",
    "r_0 = matrix_educ[0][1]/sum(matrix_educ.T)[0]\n",
    "r_1 = matrix_educ[1][0]/sum(matrix_educ.T)[1]\n",
    "\n",
    "betas_mm_class = []\n",
    "sd_mm_class = []\n",
    "test_class = []\n",
    "for i in range(len(variables)):\n",
    "    grad_beta_class = 1/transf_v1(P_true, P_est, r_0, r_1,covs)\n",
    "    var = delta_method(betas[i], grad_beta_class, sd[i])\n",
    "\n",
    "    betas_mm_class.append(grad_beta_class*betas[i])\n",
    "    sd_mm_class.append(np.sqrt(var))\n",
    "    test_class.append(grad_beta_class*betas[i]/np.sqrt(var))\n",
    "\n",
    "print('coef:', betas_mm_class,\n",
    "      '\\n sd:', sd_mm_class,\n",
    "      '\\n t-test:', test_class)"
   ]
  },
  {
   "cell_type": "markdown",
   "metadata": {},
   "source": [
    "#### We used this transformation:"
   ]
  },
  {
   "cell_type": "code",
   "execution_count": 38,
   "metadata": {},
   "outputs": [
    {
     "name": "stdout",
     "output_type": "stream",
     "text": [
      "1.38485108287\n",
      "1.38485108287\n",
      "1.38628101894\n",
      "1.38628101894\n",
      "coef: [-0.15247210422354662, -0.15371847019812601, 0.0081790580117448494, 0.0041588430568194152] \n",
      " sd: [0.034621277071650004, 0.033236425988784006, 0.0041588430568194152, 0.0013862810189398051] \n",
      " t-test: [-4.4039999999999999, -4.6249999999999991, 1.9666666666666666, 3.0]\n"
     ]
    }
   ],
   "source": [
    "P_est = 0.423559 #municipalities audited in Education\n",
    "P_true = 0.35 #Paper Ferraz, Finan, Moreira\n",
    "r_0 = matrix_educ[0][1]/sum(matrix_educ.T)[0]\n",
    "r_1 = matrix_educ[1][0]/sum(matrix_educ.T)[1]\n",
    "\n",
    "betas_mm_class = []\n",
    "sd_mm_class = []\n",
    "test_class = []\n",
    "for i in range(len(variables)):\n",
    "    termo = vec_termos[i]\n",
    "    grad_beta_class = 1/transf_v2(P_true, r_0, r_1, termo)\n",
    "    print(grad_beta_class)\n",
    "    var = delta_method(betas[i], grad_beta_class, sd[i])\n",
    "\n",
    "    betas_mm_class.append(grad_beta_class*betas[i])\n",
    "    sd_mm_class.append(np.sqrt(var))\n",
    "    test_class.append(grad_beta_class*betas[i]/np.sqrt(var))\n",
    "\n",
    "print('coef:', betas_mm_class,\n",
    "      '\\n sd:', sd_mm_class,\n",
    "      '\\n t-test:', test_class)"
   ]
  },
  {
   "cell_type": "code",
   "execution_count": null,
   "metadata": {
    "collapsed": true
   },
   "outputs": [],
   "source": []
  }
 ],
 "metadata": {
  "kernelspec": {
   "display_name": "Python 3",
   "language": "python",
   "name": "python3"
  },
  "language_info": {
   "codemirror_mode": {
    "name": "ipython",
    "version": 3
   },
   "file_extension": ".py",
   "mimetype": "text/x-python",
   "name": "python",
   "nbconvert_exporter": "python",
   "pygments_lexer": "ipython3",
   "version": "3.6.1"
  },
  "toc": {
   "nav_menu": {},
   "number_sections": true,
   "sideBar": true,
   "skip_h1_title": false,
   "title_cell": "Table of Contents",
   "title_sidebar": "Contents",
   "toc_cell": false,
   "toc_position": {
    "height": "525px",
    "left": "61px",
    "top": "149.717px",
    "width": "305px"
   },
   "toc_section_display": true,
   "toc_window_display": true
  }
 },
 "nbformat": 4,
 "nbformat_minor": 2
}
