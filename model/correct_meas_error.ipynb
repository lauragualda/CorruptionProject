{
 "cells": [
  {
   "cell_type": "code",
   "execution_count": 2,
   "metadata": {
    "collapsed": true
   },
   "outputs": [],
   "source": [
    "import numpy as np\n",
    "import pandas as pd\n",
    "\n",
    "%matplotlib inline"
   ]
  },
  {
   "cell_type": "markdown",
   "metadata": {},
   "source": [
    "# Functions\n",
    "\n",
    "Confusion matrix: By definition a confusion matrix C is such that $C_{i, j}$ is equal to the number of observations known to be in group i but predicted to be in group j"
   ]
  },
  {
   "cell_type": "code",
   "execution_count": 3,
   "metadata": {
    "collapsed": true
   },
   "outputs": [],
   "source": [
    "def delta_method(beta, grad_beta, sd_beta):\n",
    "    \n",
    "    var_beta = sd_beta**2\n",
    "    \n",
    "    var_beta_mm = (grad_beta**2)*var_beta\n",
    "    \n",
    "    return var_beta_mm  "
   ]
  },
  {
   "cell_type": "code",
   "execution_count": 4,
   "metadata": {
    "collapsed": true
   },
   "outputs": [],
   "source": [
    "def transf_v1(P, P_hat, r0, r1, termo_erro):\n",
    "    \n",
    "    numerador = ((1- r0 - r1)*P*(1-P)) - termo_erro\n",
    "\n",
    "    denominador = (P_hat*(1-P_hat)) - termo_erro\n",
    "    \n",
    "    transf = numerador/denominador\n",
    "    \n",
    "    return transf"
   ]
  },
  {
   "cell_type": "code",
   "execution_count": 5,
   "metadata": {
    "collapsed": true
   },
   "outputs": [],
   "source": [
    "def transf_v2(P, r0, r1, termo_cov):\n",
    "    \n",
    "    var_u = r1 + (r0 - r1)*P - (r1 - (r0 + r1)*P)**2\n",
    "    cov_x_u = -(r1 + r0)*P*(1-P)\n",
    "    \n",
    "    numerador = var_u + cov_x_u\n",
    "    denominador = termo_cov #nesse caso o termo já é o inverso\n",
    "    \n",
    "    transf = 1 - (numerador*denominador)\n",
    "    \n",
    "    return transf"
   ]
  },
  {
   "cell_type": "markdown",
   "metadata": {},
   "source": [
    "## Testing"
   ]
  },
  {
   "cell_type": "code",
   "execution_count": 11,
   "metadata": {},
   "outputs": [
    {
     "data": {
      "text/plain": [
       "0.0634825670257968"
      ]
     },
     "execution_count": 11,
     "metadata": {},
     "output_type": "execute_result"
    }
   ],
   "source": [
    "var_c = 0.25004973120490126 #\\% of schools in municipalities with corruption\n",
    "termo = 5.36\n",
    "covs = var_c - (1/termo)\n",
    "covs"
   ]
  },
  {
   "cell_type": "code",
   "execution_count": 12,
   "metadata": {
    "collapsed": true
   },
   "outputs": [],
   "source": [
    "P_est = 0.423559 #municipalities audited in Education\n",
    "P_true = 0.35 #Paper Ferraz, Finan, Moreira\n",
    "r_0 = 0.05540628 #R\n",
    "r_1 = 0.1860478 #R"
   ]
  },
  {
   "cell_type": "code",
   "execution_count": 13,
   "metadata": {},
   "outputs": [
    {
     "data": {
      "text/plain": [
       "1.6562451958336055"
      ]
     },
     "execution_count": 13,
     "metadata": {},
     "output_type": "execute_result"
    }
   ],
   "source": [
    "1/transf_v1(P_true, P_est, r_0, r_1, covs)"
   ]
  },
  {
   "cell_type": "code",
   "execution_count": 14,
   "metadata": {},
   "outputs": [
    {
     "data": {
      "text/plain": [
       "1.6734756132693105"
      ]
     },
     "execution_count": 14,
     "metadata": {},
     "output_type": "execute_result"
    }
   ],
   "source": [
    "1/transf_v2(P_true, r_0, r_1, termo)"
   ]
  },
  {
   "cell_type": "markdown",
   "metadata": {},
   "source": [
    "### Negative Binomial"
   ]
  },
  {
   "cell_type": "code",
   "execution_count": 15,
   "metadata": {},
   "outputs": [
    {
     "name": "stdout",
     "output_type": "stream",
     "text": [
      "[[903  50]\n",
      " [ 46 252]]\n"
     ]
    }
   ],
   "source": [
    "matrix_total = np.array([[903, 50],[46, 252]])\n",
    "print(matrix_total)"
   ]
  },
  {
   "cell_type": "code",
   "execution_count": 16,
   "metadata": {},
   "outputs": [
    {
     "data": {
      "text/plain": [
       "1251"
      ]
     },
     "execution_count": 16,
     "metadata": {},
     "output_type": "execute_result"
    }
   ],
   "source": [
    "sum(sum(matrix_total))"
   ]
  },
  {
   "cell_type": "code",
   "execution_count": 17,
   "metadata": {
    "collapsed": true
   },
   "outputs": [],
   "source": [
    "pi_00 = matrix_total[0][0]/sum(sum(matrix_total))\n",
    "pi_01 = matrix_total[0][1]/sum(sum(matrix_total))\n",
    "pi_11 = matrix_total[1][1]/sum(sum(matrix_total))\n",
    "pi_10 = matrix_total[1][0]/sum(sum(matrix_total))"
   ]
  },
  {
   "cell_type": "code",
   "execution_count": 18,
   "metadata": {},
   "outputs": [
    {
     "name": "stdout",
     "output_type": "stream",
     "text": [
      "1.66 \n",
      " 1.6734756132693105\n"
     ]
    }
   ],
   "source": [
    "P_est = 0.423559 #municipalities audited in Education\n",
    "P_true = 0.35 #Paper Ferraz, Finan, Moreira\n",
    "r_0 = 0.05540628 #R\n",
    "r_1 = 0.1860478 #R\n",
    "termo_bin_neg_1 = transf_v1(P_true, P_est, r_0, r_1, covs)\n",
    "termo_bin_neg_2 = transf_v2(P_true, r_0, r_1, termo)\n",
    "print(round(1/termo_bin_neg_1,2),'\\n', 1/termo_bin_neg_2)"
   ]
  },
  {
   "cell_type": "markdown",
   "metadata": {},
   "source": [
    "### Classification"
   ]
  },
  {
   "cell_type": "code",
   "execution_count": 19,
   "metadata": {},
   "outputs": [
    {
     "name": "stdout",
     "output_type": "stream",
     "text": [
      "[[200  17]\n",
      " [ 10  86]]\n"
     ]
    }
   ],
   "source": [
    "matrix_educ = np.array([[200, 17],[10, 86]])\n",
    "print(matrix_educ)"
   ]
  },
  {
   "cell_type": "code",
   "execution_count": 20,
   "metadata": {},
   "outputs": [
    {
     "name": "stdout",
     "output_type": "stream",
     "text": [
      "1.47 \n",
      " 1.38625919645\n"
     ]
    }
   ],
   "source": [
    "P_est = 0.423559 #municipalities audited in Education\n",
    "P_true = 0.35 #Paper Ferraz, Finan, Moreira\n",
    "r_0 = matrix_educ[0][1]/sum(matrix_educ.T)[0]\n",
    "r_1 = matrix_educ[1][0]/sum(matrix_educ.T)[1]\n",
    "termo_class_1 = transf_v1(P_true, P_est, r_0, r_1, covs)\n",
    "termo_class_2 = transf_v2(P_true, r_0, r_1, termo)\n",
    "print(round(1/termo_class_1,2),'\\n', 1/termo_class_2)"
   ]
  },
  {
   "cell_type": "markdown",
   "metadata": {},
   "source": [
    "## Betas"
   ]
  },
  {
   "cell_type": "code",
   "execution_count": 6,
   "metadata": {
    "collapsed": true
   },
   "outputs": [],
   "source": [
    "variables = ['mat' ,'port', 'fail', 'drop']\n",
    "betas = [-0.1098, -0.1105, 0.0059, 0.0030]\n",
    "sd = [0.025, 0.024, 0.003, 0.001]\n",
    "vec_termos = [5.3444757158, 5.3444757158, 5.35881757256, 5.35881757256]"
   ]
  },
  {
   "cell_type": "code",
   "execution_count": 9,
   "metadata": {},
   "outputs": [
    {
     "data": {
      "text/plain": [
       "0.06313384335443395"
      ]
     },
     "execution_count": 9,
     "metadata": {},
     "output_type": "execute_result"
    }
   ],
   "source": [
    "var_c = 0.25004973120490126 #\\% of schools in municipalities with corruption\n",
    "termo = 5.35\n",
    "covs = var_c - (1/termo)\n",
    "covs"
   ]
  },
  {
   "cell_type": "markdown",
   "metadata": {},
   "source": [
    "### Negative Binomial"
   ]
  },
  {
   "cell_type": "code",
   "execution_count": 7,
   "metadata": {
    "collapsed": true
   },
   "outputs": [],
   "source": [
    "matrix_educ = np.array([[200, 17],[10, 86]])"
   ]
  },
  {
   "cell_type": "code",
   "execution_count": 10,
   "metadata": {},
   "outputs": [
    {
     "name": "stdout",
     "output_type": "stream",
     "text": [
      "coef: [-0.1816261117295699, -0.1827840195456965, 0.009759508735924067, 0.004962462069113932] \n",
      " sd: [0.041353850575949438, 0.039699696552911459, 0.0049624620691139324, 0.0016541540230379773] \n",
      " t-test: [-4.3919999999999995, -4.604166666666667, 1.9666666666666666, 3.0000000000000004]\n"
     ]
    }
   ],
   "source": [
    "P_est = 0.423559 #municipalities audited in Education\n",
    "P_true = 0.35 #Paper Ferraz, Finan, Moreira\n",
    "r_0 = 0.05540628 #R\n",
    "r_1 = 0.1860478 #R\n",
    "\n",
    "betas_mm_nb = []\n",
    "sd_mm_nb = []\n",
    "test_nb = []\n",
    "for i in range(len(variables)):\n",
    "    grad_beta_nb = 1/transf_v1(P_true, P_est, r_0, r_1,covs)\n",
    "    var = delta_method(betas[i], grad_beta_nb, sd[i])\n",
    "\n",
    "    betas_mm_nb.append(grad_beta_nb*betas[i])\n",
    "    sd_mm_nb.append(np.sqrt(var))\n",
    "    test_nb.append(grad_beta_nb*betas[i]/np.sqrt(var))\n",
    "\n",
    "print('coef:', betas_mm_nb,\n",
    "      '\\n sd:', sd_mm_nb,\n",
    "      '\\n t-test:', test_nb)"
   ]
  },
  {
   "cell_type": "markdown",
   "metadata": {},
   "source": [
    "#### We used this transformation:"
   ]
  },
  {
   "cell_type": "code",
   "execution_count": 11,
   "metadata": {},
   "outputs": [
    {
     "name": "stdout",
     "output_type": "stream",
     "text": [
      "1.6702176832840263\n",
      "1.6702176832840263\n",
      "1.6732270216668244\n",
      "1.6732270216668244\n",
      "coef: [-0.18338990162458607, -0.18455905400288491, 0.009872039427834264, 0.0050196810650004735] \n",
      " sd: [0.041755442082100663, 0.040085224398816628, 0.0050196810650004735, 0.0016732270216668244] \n",
      " t-test: [-4.3919999999999986, -4.604166666666667, 1.9666666666666666, 3.0000000000000004]\n"
     ]
    }
   ],
   "source": [
    "P_est = 0.423559 #municipalities audited in Education\n",
    "P_true = 0.35 #Paper Ferraz, Finan, Moreira\n",
    "r_0 = 0.05540628 #R\n",
    "r_1 = 0.1860478 #R\n",
    "\n",
    "betas_mm_nb = []\n",
    "sd_mm_nb = []\n",
    "test_nb = []\n",
    "for i in range(len(variables)):\n",
    "    termo = vec_termos[i]\n",
    "    grad_beta_nb = 1/transf_v2(P_true, r_0, r_1, termo)\n",
    "    print(grad_beta_nb)\n",
    "    var = delta_method(betas[i], grad_beta_nb, sd[i])\n",
    "\n",
    "    betas_mm_nb.append(grad_beta_nb*betas[i])\n",
    "    sd_mm_nb.append(np.sqrt(var))\n",
    "    test_nb.append(grad_beta_nb*betas[i]/np.sqrt(var))\n",
    "\n",
    "print('coef:', betas_mm_nb,\n",
    "      '\\n sd:', sd_mm_nb,\n",
    "      '\\n t-test:', test_nb)"
   ]
  },
  {
   "cell_type": "markdown",
   "metadata": {},
   "source": [
    "### Classification"
   ]
  },
  {
   "cell_type": "code",
   "execution_count": 12,
   "metadata": {},
   "outputs": [
    {
     "name": "stdout",
     "output_type": "stream",
     "text": [
      "coef: [-0.16179910498970762, -0.16283061112352182, 0.0086941231278622501, 0.0044207405734892798] \n",
      " sd: [0.036839504779077333, 0.035365924587914238, 0.0044207405734892798, 0.0014735801911630933] \n",
      " t-test: [-4.3919999999999995, -4.604166666666667, 1.9666666666666666, 3.0]\n"
     ]
    }
   ],
   "source": [
    "P_est = 0.423559 #municipalities audited in Education\n",
    "P_true = 0.35 #Paper Ferraz, Finan, Moreira\n",
    "r_0 = matrix_educ[0][1]/sum(matrix_educ.T)[0]\n",
    "r_1 = matrix_educ[1][0]/sum(matrix_educ.T)[1]\n",
    "\n",
    "betas_mm_class = []\n",
    "sd_mm_class = []\n",
    "test_class = []\n",
    "for i in range(len(variables)):\n",
    "    grad_beta_class = 1/transf_v1(P_true, P_est, r_0, r_1,covs)\n",
    "    var = delta_method(betas[i], grad_beta_class, sd[i])\n",
    "\n",
    "    betas_mm_class.append(grad_beta_class*betas[i])\n",
    "    sd_mm_class.append(np.sqrt(var))\n",
    "    test_class.append(grad_beta_class*betas[i]/np.sqrt(var))\n",
    "\n",
    "print('coef:', betas_mm_class,\n",
    "      '\\n sd:', sd_mm_class,\n",
    "      '\\n t-test:', test_class)"
   ]
  },
  {
   "cell_type": "markdown",
   "metadata": {},
   "source": [
    "#### We used this transformation:"
   ]
  },
  {
   "cell_type": "code",
   "execution_count": 13,
   "metadata": {},
   "outputs": [
    {
     "name": "stdout",
     "output_type": "stream",
     "text": [
      "1.38471007852\n",
      "1.38471007852\n",
      "1.38614108391\n",
      "1.38614108391\n",
      "coef: [-0.1520411666210354, -0.15301046367599647, 0.008178232395098229, 0.0041584232517448624] \n",
      " sd: [0.034617751962895127, 0.033233041884379325, 0.0041584232517448624, 0.0013861410839149542] \n",
      " t-test: [-4.3920000000000003, -4.6041666666666661, 1.9666666666666666, 3.0]\n"
     ]
    }
   ],
   "source": [
    "P_est = 0.423559 #municipalities audited in Education\n",
    "P_true = 0.35 #Paper Ferraz, Finan, Moreira\n",
    "r_0 = matrix_educ[0][1]/sum(matrix_educ.T)[0]\n",
    "r_1 = matrix_educ[1][0]/sum(matrix_educ.T)[1]\n",
    "\n",
    "betas_mm_class = []\n",
    "sd_mm_class = []\n",
    "test_class = []\n",
    "for i in range(len(variables)):\n",
    "    termo = vec_termos[i]\n",
    "    grad_beta_class = 1/transf_v2(P_true, r_0, r_1, termo)\n",
    "    print(grad_beta_class)\n",
    "    var = delta_method(betas[i], grad_beta_class, sd[i])\n",
    "\n",
    "    betas_mm_class.append(grad_beta_class*betas[i])\n",
    "    sd_mm_class.append(np.sqrt(var))\n",
    "    test_class.append(grad_beta_class*betas[i]/np.sqrt(var))\n",
    "\n",
    "print('coef:', betas_mm_class,\n",
    "      '\\n sd:', sd_mm_class,\n",
    "      '\\n t-test:', test_class)"
   ]
  },
  {
   "cell_type": "markdown",
   "metadata": {
    "collapsed": true
   },
   "source": [
    "### Private schools"
   ]
  },
  {
   "cell_type": "code",
   "execution_count": 15,
   "metadata": {
    "collapsed": true
   },
   "outputs": [],
   "source": [
    "variables = ['fail', 'drop']\n",
    "betas = [0.0007, 0.0891]\n",
    "sd = [0.002, 0.076]\n",
    "vec_termos = [74.516442587, 74.516442587]"
   ]
  },
  {
   "cell_type": "code",
   "execution_count": 16,
   "metadata": {},
   "outputs": [
    {
     "name": "stdout",
     "output_type": "stream",
     "text": [
      "-0.21763412929866913\n",
      "-0.21763412929866913\n",
      "coef: [-0.00015234389050906838, -0.019391200920511418] \n",
      " sd: [0.00043526825859733825, 0.016540193826698853] \n",
      " t-test: [-0.34999999999999998, -1.1723684210526315]\n"
     ]
    }
   ],
   "source": [
    "P_est = 0.423559 #municipalities audited in Education\n",
    "P_true = 0.35 #Paper Ferraz, Finan, Moreira\n",
    "r_0 = 0.05540628 #R\n",
    "r_1 = 0.1860478 #R\n",
    "\n",
    "betas_mm_nb = []\n",
    "sd_mm_nb = []\n",
    "test_nb = []\n",
    "for i in range(len(variables)):\n",
    "    termo = vec_termos[i]\n",
    "    grad_beta_nb = 1/transf_v2(P_true, r_0, r_1, termo)\n",
    "    print(grad_beta_nb)\n",
    "    var = delta_method(betas[i], grad_beta_nb, sd[i])\n",
    "\n",
    "    betas_mm_nb.append(grad_beta_nb*betas[i])\n",
    "    sd_mm_nb.append(np.sqrt(var))\n",
    "    test_nb.append(grad_beta_nb*betas[i]/np.sqrt(var))\n",
    "\n",
    "print('coef:', betas_mm_nb,\n",
    "      '\\n sd:', sd_mm_nb,\n",
    "      '\\n t-test:', test_nb)"
   ]
  },
  {
   "cell_type": "code",
   "execution_count": null,
   "metadata": {
    "collapsed": true
   },
   "outputs": [],
   "source": []
  }
 ],
 "metadata": {
  "kernelspec": {
   "display_name": "Python 3",
   "language": "python",
   "name": "python3"
  },
  "language_info": {
   "codemirror_mode": {
    "name": "ipython",
    "version": 3
   },
   "file_extension": ".py",
   "mimetype": "text/x-python",
   "name": "python",
   "nbconvert_exporter": "python",
   "pygments_lexer": "ipython3",
   "version": "3.6.1"
  },
  "toc": {
   "nav_menu": {},
   "number_sections": true,
   "sideBar": true,
   "skip_h1_title": false,
   "title_cell": "Table of Contents",
   "title_sidebar": "Contents",
   "toc_cell": false,
   "toc_position": {
    "height": "525px",
    "left": "61px",
    "top": "149.717px",
    "width": "305px"
   },
   "toc_section_display": true,
   "toc_window_display": true
  }
 },
 "nbformat": 4,
 "nbformat_minor": 2
}
